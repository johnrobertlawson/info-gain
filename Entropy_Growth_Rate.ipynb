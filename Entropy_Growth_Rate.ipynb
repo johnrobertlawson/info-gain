{
 "cells": [
  {
   "cell_type": "code",
   "execution_count": 1,
   "id": "functional-failing",
   "metadata": {},
   "outputs": [],
   "source": [
    "# Is this for K-S entropy?\n",
    "\n",
    "import os\n",
    "import pdb\n",
    "import numpy as np"
   ]
  },
  {
   "cell_type": "code",
   "execution_count": 23,
   "id": "environmental-brazil",
   "metadata": {},
   "outputs": [],
   "source": [
    "def log3(x):\n",
    "    return np.log(x)/np.log(3)\n",
    "\n",
    "def DKL_3(T,idx):\n",
    "    # there are [3 x 2]\n",
    "    T0 = T[:,idx[0]]\n",
    "    T1 = T[:,idx[1]]\n",
    "    dkl_all = T1 * (log3(T1)/log3(T0))\n",
    "    print(T0)\n",
    "    print(T1)\n",
    "    print(dkl_all)\n",
    "    return\n",
    "    # return np.nansum(dkl_all)"
   ]
  },
  {
   "cell_type": "code",
   "execution_count": 27,
   "id": "signed-cherry",
   "metadata": {},
   "outputs": [
    {
     "ename": "ValueError",
     "evalue": "Cannot take a larger sample than population when 'replace=False'",
     "output_type": "error",
     "traceback": [
      "\u001b[0;31m---------------------------------------------------------------------------\u001b[0m",
      "\u001b[0;31mValueError\u001b[0m                                Traceback (most recent call last)",
      "\u001b[0;32m<ipython-input-27-10c9b6f364b4>\u001b[0m in \u001b[0;36m<module>\u001b[0;34m\u001b[0m\n\u001b[1;32m     23\u001b[0m \u001b[0;34m\u001b[0m\u001b[0m\n\u001b[1;32m     24\u001b[0m \u001b[0;31m# Modify this slightly by randomly flipping bits in 5% of places\u001b[0m\u001b[0;34m\u001b[0m\u001b[0;34m\u001b[0m\u001b[0;34m\u001b[0m\u001b[0m\n\u001b[0;32m---> 25\u001b[0;31m \u001b[0mmod_locs\u001b[0m \u001b[0;34m=\u001b[0m \u001b[0mnp\u001b[0m\u001b[0;34m.\u001b[0m\u001b[0mrandom\u001b[0m\u001b[0;34m.\u001b[0m\u001b[0mchoice\u001b[0m\u001b[0;34m(\u001b[0m\u001b[0mdata\u001b[0m\u001b[0;34m.\u001b[0m\u001b[0mshape\u001b[0m\u001b[0;34m[\u001b[0m\u001b[0;36m0\u001b[0m\u001b[0;34m]\u001b[0m\u001b[0;34m,\u001b[0m\u001b[0mint\u001b[0m\u001b[0;34m(\u001b[0m\u001b[0mdata\u001b[0m\u001b[0;34m.\u001b[0m\u001b[0msize\u001b[0m\u001b[0;34m/\u001b[0m\u001b[0;36m20\u001b[0m\u001b[0;34m)\u001b[0m\u001b[0;34m,\u001b[0m \u001b[0mreplace\u001b[0m\u001b[0;34m=\u001b[0m\u001b[0;32mFalse\u001b[0m\u001b[0;34m)\u001b[0m\u001b[0;34m\u001b[0m\u001b[0;34m\u001b[0m\u001b[0m\n\u001b[0m\u001b[1;32m     26\u001b[0m \u001b[0mdata\u001b[0m\u001b[0;34m[\u001b[0m\u001b[0mmod_locs\u001b[0m\u001b[0;34m]\u001b[0m \u001b[0;34m=\u001b[0m \u001b[0;34m-\u001b[0m\u001b[0mdata\u001b[0m\u001b[0;34m[\u001b[0m\u001b[0mmod_locs\u001b[0m\u001b[0;34m]\u001b[0m\u001b[0;34m\u001b[0m\u001b[0;34m\u001b[0m\u001b[0m\n\u001b[1;32m     27\u001b[0m \u001b[0;34m\u001b[0m\u001b[0m\n",
      "\u001b[0;32mmtrand.pyx\u001b[0m in \u001b[0;36mnumpy.random.mtrand.RandomState.choice\u001b[0;34m()\u001b[0m\n",
      "\u001b[0;31mValueError\u001b[0m: Cannot take a larger sample than population when 'replace=False'"
     ]
    }
   ],
   "source": [
    "# create time series of 20 time steps\n",
    "# prescribed transition probs:\n",
    "# [0-0, 0-1, 1-0, 1-1]\n",
    "\n",
    "data_template = np.array([\n",
    "    [0,0,0,1,1,1,0,0,0,0,\n",
    "     0,0,1,1,1,0,0,0,1,1],\n",
    "    [0,1,1,0,0,0,0,0,0,0,\n",
    "     0,0,0,1,1,1,1,0,0,0],\n",
    "    [0,0,0,1,1,0,0,1,1,1,\n",
    "     0,0,0,0,0,0,0,0,0,0],\n",
    "    [1,0,0,0,0,1,1,1,0,0,\n",
    "     0,1,1,0,0,1,0,1,0,0]\n",
    "    ])\n",
    "\n",
    "# tile this 5 times in time (100 steps)\n",
    "# tile this 10 times in member (40 mems)\n",
    "# [mems,times]\n",
    "# [40,100]\n",
    "data = np.tile(data_template,(10,5))\n",
    "\n",
    "#print(data,data.shape)\n",
    "\n",
    "# Modify this slightly by randomly flipping bits in 5% of places\n",
    "mod_locs = np.random.choice(data.shape,int(data.size/20), replace=False)\n",
    "data[mod_locs] = -data[mod_locs]\n",
    "\n",
    "# Compute transitions\n",
    "T = np.diff(data,axis=1).astype(int)\n",
    "# print(T, T.shape)\n",
    "\n",
    "# count each timestep (-1, 0, 1)\n",
    "# counts = np.count_nonzero(array==)\n",
    "uniq, counts = np.unique(T,return_counts=True)\n",
    "# print(uniq,counts)\n",
    "\n",
    "# Work out DKL for first two times\n",
    "DKL = DKL_3(T,[0,1])\n",
    "print(DKL)"
   ]
  },
  {
   "cell_type": "code",
   "execution_count": null,
   "id": "supposed-constraint",
   "metadata": {},
   "outputs": [],
   "source": []
  }
 ],
 "metadata": {
  "kernelspec": {
   "display_name": "Python 3",
   "language": "python",
   "name": "python3"
  },
  "language_info": {
   "codemirror_mode": {
    "name": "ipython",
    "version": 3
   },
   "file_extension": ".py",
   "mimetype": "text/x-python",
   "name": "python",
   "nbconvert_exporter": "python",
   "pygments_lexer": "ipython3",
   "version": "3.6.6+"
  }
 },
 "nbformat": 4,
 "nbformat_minor": 5
}
