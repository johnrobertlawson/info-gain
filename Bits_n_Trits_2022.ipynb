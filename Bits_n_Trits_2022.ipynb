{
 "cells": [
  {
   "cell_type": "markdown",
   "id": "0f4e63f0-e4b6-4d1a-9c91-ee0348c7b776",
   "metadata": {},
   "source": [
    "## Bits, Trits, and 3-category decision making\n",
    "#### John R. Lawson, Valparaiso Univ., IN, USA, 2022"
   ]
  },
  {
   "cell_type": "markdown",
   "id": "fa244df3-a89f-4383-b6b6-a186e87f7d6b",
   "metadata": {},
   "source": [
    "### Motivation\n",
    "We often think of events as occurring or not occurring (binary, where 1s or 0s are termed __bits__). If we instead convert to, e.g., severity, and split the categories into three as \"<10%\", \"10-50%\", and \">50%\" or similar, then does this deliver more or less useful (correct) information to the user? The log base determines the name of the information quantum (2 in the case of bits, and 3 for trits), but logarithms of any base can be converted to a more typical base (e.g., 2 or 10)."
   ]
  },
  {
   "cell_type": "markdown",
   "id": "df6752b6-1810-4e91-88e7-e12c580b03ad",
   "metadata": {},
   "source": [
    "### TODO\n",
    "* What about higher bases (4, 5, etc)? Different percentiles or thresholds for, e.g., strong winds?\n",
    "* Split by equal likelihood such that entropy is like Benedetti paper (boxes)? Intepretation...\n",
    "* Are the results a function of how rare the event is? What about cost-loss ratio etc."
   ]
  },
  {
   "cell_type": "code",
   "execution_count": null,
   "id": "864f363d-fdb9-4d4c-9a17-9e8720ac940f",
   "metadata": {},
   "outputs": [],
   "source": []
  }
 ],
 "metadata": {
  "kernelspec": {
   "display_name": "Python 3 (ipykernel)",
   "language": "python",
   "name": "python3"
  },
  "language_info": {
   "codemirror_mode": {
    "name": "ipython",
    "version": 3
   },
   "file_extension": ".py",
   "mimetype": "text/x-python",
   "name": "python",
   "nbconvert_exporter": "python",
   "pygments_lexer": "ipython3",
   "version": "3.8.12"
  }
 },
 "nbformat": 4,
 "nbformat_minor": 5
}
