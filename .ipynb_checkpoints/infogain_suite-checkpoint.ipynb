{
 "cells": [
  {
   "cell_type": "code",
   "execution_count": 11,
   "id": "amino-vienna",
   "metadata": {},
   "outputs": [],
   "source": [
    "import os \n",
    "import pdb\n",
    "import numpy as np\n",
    "import pandas as pd\n",
    "np.random.seed(383838)"
   ]
  },
  {
   "cell_type": "code",
   "execution_count": 12,
   "id": "progressive-terror",
   "metadata": {},
   "outputs": [],
   "source": [
    "import numpy as np\n",
    "import pandas as pd\n",
    "np.random.seed(383838)\n",
    "\n",
    "class InfoGain:\n",
    "    \"\"\" For computing and visualising skill scores for a probabilistic forecast.\n",
    "    \"\"\"\n",
    "    def __init__(self,f,o,fk=None):\n",
    "        \"\"\" Initialise the suite.\n",
    "        \n",
    "        Args:\n",
    "        f   : array of forecasts\n",
    "        \"\"\"\n",
    "\n",
    "\n",
    "    def compute_DKL(x,y,return_components=False,logbase=2):\n",
    "        \"\"\" Kullback-Liebler Divergence\n",
    "\n",
    "        Args:\n",
    "        x   : 1-D (e.g., observations)\n",
    "        y   : 1-D (e.g., forecasts)\n",
    "\n",
    "        \"\"\"\n",
    "        dkl = ((1-x) * np.ma.log2((1-x)/(1-y))) + (x * np.ma.log2(x/y))\n",
    "        DKL = N.mean(dkl)\n",
    "        return DKL\n",
    "\n",
    "    def compute_XES(x,y,return_components=False):\n",
    "        \"\"\" Cross-entropy score.\n",
    "\n",
    "        Args:\n",
    "\n",
    "        \"\"\"\n",
    "\n",
    "        pass \n",
    "\n",
    "    def compute_DSC(f,o,fk):\n",
    "        \"\"\" Compute discrimination component of DKL.\n",
    "\n",
    "        Args:\n",
    "\n",
    "        \"\"\"\n",
    "        # p_o  : frequency of observation for this k\n",
    "        dsc = N.zeros_like(fk)\n",
    "        for nk,k in enumerate(fk):\n",
    "            ok = o[f==k]\n",
    "            ok_bar = N.mean(ok)\n",
    "            o_bar = N.mean(o)\n",
    "            dsc[nk] = ok.size * compute_DKL(ok_bar,o_bar)\n",
    "        DSC = N.sum(dsc)/o.size\n",
    "        return DSC\n",
    "    \n",
    "    def bound(x,thresh=0.01):\n",
    "        x[x<thresh] = thresh\n",
    "        x[x>(1-thresh)] = 1-thresh\n",
    "        return x      \n",
    "    \n",
    "# Create data \n",
    "\n",
    "\n",
    "############\n",
    "# From Wilks: need to bin fcst probs, setting the middle of\n",
    "# the bin as the value...\n",
    "############\n",
    "\n",
    "def count_bin_size(x,fk):\n",
    "    bin_counts,bin_edges = np.histogram(x,bins=fk)\n",
    "    return bin_counts\n",
    "    \n",
    "def quantise(x,fk):\n",
    "    # I think the index is not right, need to look at bin edges?\n",
    "    quant_probs = np.digitize(x,fk)\n",
    "    # pdb.set_trace()\n",
    "    f = [fk[q-1] for q in quant_probs]\n",
    "    return f\n",
    "    \n",
    "def generate_test_data(nt,fk,baserate=0.3,scale=0.1):\n",
    "    # Going to hard-code fk. Need to write interpolation or binning func\n",
    "    o = np.concatenate((np.repeat(0,int(nt*baserate)),\n",
    "                      np.repeat(1,int(nt*(1-baserate)))))\n",
    "    random_f = np.concatenate((\n",
    "                    np.random.uniform(low=0.01,high=0.3,size=int(nt/2)),\n",
    "                    np.random.uniform(low=0.3,high=0.8,size=int(nt/4)),\n",
    "                    np.random.uniform(low=0.8,high=0.99,size=int(nt/4)),))\n",
    "    fq = quantise(random_f,fk)\n",
    "    return fq,o\n",
    "            \n",
    "nt = 100\n",
    "fk = bound(np.arange(0.0,1.1,0.1))\n",
    "fq,o = generate_fcst_obs(nt,fk) \n",
    "# np.take_along_axis(f,fk,axis=0)\n",
    "# f = np.array(\n",
    "# pd.DataFrame({'fcst':f,'obs':o})"
   ]
  },
  {
   "cell_type": "code",
   "execution_count": 13,
   "id": "lesser-nickname",
   "metadata": {},
   "outputs": [],
   "source": []
  },
  {
   "cell_type": "code",
   "execution_count": null,
   "id": "marine-flood",
   "metadata": {},
   "outputs": [],
   "source": []
  },
  {
   "cell_type": "code",
   "execution_count": 14,
   "id": "aware-jason",
   "metadata": {},
   "outputs": [
    {
     "ename": "NameError",
     "evalue": "name 'f' is not defined",
     "output_type": "error",
     "traceback": [
      "\u001b[0;31m---------------------------------------------------------------------------\u001b[0m",
      "\u001b[0;31mNameError\u001b[0m                                 Traceback (most recent call last)",
      "\u001b[0;32m<ipython-input-14-a9fcd54b25e7>\u001b[0m in \u001b[0;36m<module>\u001b[0;34m\u001b[0m\n\u001b[0;32m----> 1\u001b[0;31m \u001b[0mf\u001b[0m\u001b[0;34m\u001b[0m\u001b[0;34m\u001b[0m\u001b[0m\n\u001b[0m",
      "\u001b[0;31mNameError\u001b[0m: name 'f' is not defined"
     ]
    }
   ],
   "source": [
    "f"
   ]
  },
  {
   "cell_type": "code",
   "execution_count": null,
   "id": "seven-acting",
   "metadata": {},
   "outputs": [],
   "source": []
  },
  {
   "cell_type": "code",
   "execution_count": null,
   "id": "damaged-carol",
   "metadata": {},
   "outputs": [],
   "source": []
  }
 ],
 "metadata": {
  "kernelspec": {
   "display_name": "Python 3",
   "language": "python",
   "name": "python3"
  },
  "language_info": {
   "codemirror_mode": {
    "name": "ipython",
    "version": 3
   },
   "file_extension": ".py",
   "mimetype": "text/x-python",
   "name": "python",
   "nbconvert_exporter": "python",
   "pygments_lexer": "ipython3",
   "version": "3.8.2"
  }
 },
 "nbformat": 4,
 "nbformat_minor": 5
}
